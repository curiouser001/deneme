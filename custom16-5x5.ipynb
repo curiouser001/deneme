{
  "nbformat": 4,
  "nbformat_minor": 0,
  "metadata": {
    "colab": {
      "name": "custom.ipynb",
      "provenance": [],
      "collapsed_sections": [],
      "mount_file_id": "11TCNOkdLeYM7l9-uwztfWhQb1Lef8d-V",
      "authorship_tag": "ABX9TyPoitIrVo5W854Bq0bxfGGe",
      "include_colab_link": true
    },
    "kernelspec": {
      "name": "python3",
      "display_name": "Python 3"
    },
    "accelerator": "GPU"
  },
  "cells": [
    {
      "cell_type": "markdown",
      "metadata": {
        "id": "view-in-github",
        "colab_type": "text"
      },
      "source": [
        "<a href=\"https://colab.research.google.com/github/curiouser001/deneme/blob/master/custom16-5x5.ipynb\" target=\"_parent\"><img src=\"https://colab.research.google.com/assets/colab-badge.svg\" alt=\"Open In Colab\"/></a>"
      ]
    },
    {
      "cell_type": "code",
      "metadata": {
        "id": "b3jZDBvmOn7M",
        "colab_type": "code",
        "colab": {}
      },
      "source": [
        "!apt-get install -y -qq software-properties-common python-software-properties module-init-tools\n",
        "!add-apt-repository -y ppa:alessandro-strada/ppa 2>&1 > /dev/null\n",
        "!apt-get update -qq 2>&1 > /dev/null\n",
        "!apt-get -y install -qq google-drive-ocamlfuse fuse\n",
        "from google.colab import auth\n",
        "auth.authenticate_user()\n",
        "from oauth2client.client import GoogleCredentials\n",
        "creds = GoogleCredentials.get_application_default()\n",
        "import getpass\n",
        "!google-drive-ocamlfuse -headless -id={creds.client_id} -secret={creds.client_secret} < /dev/null 2>&1 | grep URL\n",
        "vcode = getpass.getpass()\n",
        "!echo {vcode} | google-drive-ocamlfuse -headless -id={creds.client_id} -secret={creds.client_secret}"
      ],
      "execution_count": 0,
      "outputs": []
    },
    {
      "cell_type": "code",
      "metadata": {
        "id": "HDB-IGM3ieR0",
        "colab_type": "code",
        "colab": {
          "base_uri": "https://localhost:8080/",
          "height": 306
        },
        "outputId": "9069227e-1689-40d6-e27a-79b547f56696"
      },
      "source": [
        "!nvidia-smi"
      ],
      "execution_count": 12,
      "outputs": [
        {
          "output_type": "stream",
          "text": [
            "Wed Apr 22 11:00:22 2020       \n",
            "+-----------------------------------------------------------------------------+\n",
            "| NVIDIA-SMI 440.64.00    Driver Version: 418.67       CUDA Version: 10.1     |\n",
            "|-------------------------------+----------------------+----------------------+\n",
            "| GPU  Name        Persistence-M| Bus-Id        Disp.A | Volatile Uncorr. ECC |\n",
            "| Fan  Temp  Perf  Pwr:Usage/Cap|         Memory-Usage | GPU-Util  Compute M. |\n",
            "|===============================+======================+======================|\n",
            "|   0  Tesla K80           Off  | 00000000:00:04.0 Off |                    0 |\n",
            "| N/A   35C    P8    27W / 149W |     11MiB / 11441MiB |      0%      Default |\n",
            "+-------------------------------+----------------------+----------------------+\n",
            "                                                                               \n",
            "+-----------------------------------------------------------------------------+\n",
            "| Processes:                                                       GPU Memory |\n",
            "|  GPU       PID   Type   Process name                             Usage      |\n",
            "|=============================================================================|\n",
            "|  No running processes found                                                 |\n",
            "+-----------------------------------------------------------------------------+\n"
          ],
          "name": "stdout"
        }
      ]
    },
    {
      "cell_type": "code",
      "metadata": {
        "id": "i4KH6zSXPXRj",
        "colab_type": "code",
        "colab": {}
      },
      "source": [
        "!unzip '/content/drive/My Drive/finaldataset.zip' -d 'finaldataset'"
      ],
      "execution_count": 0,
      "outputs": []
    },
    {
      "cell_type": "code",
      "metadata": {
        "id": "KOsqQxIfQJPH",
        "colab_type": "code",
        "colab": {}
      },
      "source": [
        "%reload_ext autoreload\n",
        "%autoreload 2\n",
        "%matplotlib inline\n",
        "from fastai.vision import *\n",
        "from fastai.metrics import error_rate\n",
        "import torch\n",
        "import torch.nn as nn\n",
        "from torch.hub import load_state_dict_from_url\n",
        "import timeit"
      ],
      "execution_count": 0,
      "outputs": []
    },
    {
      "cell_type": "code",
      "metadata": {
        "id": "I5ddrMJFQevk",
        "colab_type": "code",
        "colab": {}
      },
      "source": [
        "class VGG(nn.Module):\n",
        "\n",
        "    def __init__(self, features, num_classes=1000, init_weights=True):\n",
        "        super(VGG, self).__init__()\n",
        "        self.features = features\n",
        "        self.avgpool = nn.AdaptiveAvgPool2d((7, 7))\n",
        "        self.classifier = nn.Sequential(\n",
        "            nn.Linear(512 * 7 * 7, 4096),\n",
        "            nn.ReLU(True),\n",
        "            nn.Dropout(),\n",
        "            nn.Linear(4096, 4096),\n",
        "            nn.ReLU(True),\n",
        "            nn.Dropout(),\n",
        "            nn.Linear(4096, num_classes),\n",
        "        )\n",
        "        if init_weights:\n",
        "            self._initialize_weights()\n",
        "\n",
        "    def forward(self, x):\n",
        "        x = self.features(x)\n",
        "        x = self.avgpool(x)\n",
        "        x = torch.flatten(x, 1)\n",
        "        x = self.classifier(x)\n",
        "        return x\n",
        "\n",
        "    def _initialize_weights(self):\n",
        "        for m in self.modules():\n",
        "            if isinstance(m, nn.Conv2d):\n",
        "                nn.init.kaiming_normal_(m.weight, mode='fan_out', nonlinearity='relu')\n",
        "                if m.bias is not None:\n",
        "                    nn.init.constant_(m.bias, 0)\n",
        "            elif isinstance(m, nn.BatchNorm2d):\n",
        "                nn.init.constant_(m.weight, 1)\n",
        "                nn.init.constant_(m.bias, 0)\n",
        "            elif isinstance(m, nn.Linear):\n",
        "                nn.init.normal_(m.weight, 0, 0.01)\n",
        "                nn.init.constant_(m.bias, 0)\n",
        "\n",
        "def make_layers(cfg, batch_norm=False,k_size=3,padding_size=1):\n",
        "    layers = []\n",
        "    in_channels = 3\n",
        "    for v in cfg:\n",
        "        if v == 'M':\n",
        "            layers += [nn.MaxPool2d(kernel_size=2, stride=2)]\n",
        "        else:\n",
        "            conv2d = nn.Conv2d(in_channels, v, kernel_size=k_size, padding=padding_size)\n",
        "            if batch_norm:\n",
        "                layers += [conv2d, nn.BatchNorm2d(v), nn.ReLU(inplace=True)]\n",
        "            else:\n",
        "                layers += [conv2d, nn.ReLU(inplace=True)]\n",
        "            in_channels = v\n",
        "    return nn.Sequential(*layers)\n",
        "\n",
        "\n",
        "def _vgg(arch, cfg, batch_norm, pretrained, progress,k_size,padding_size, **kwargs):\n",
        "    if pretrained:\n",
        "        kwargs['init_weights'] = False\n",
        "    model = VGG(make_layers(cfgs[cfg], batch_norm=batch_norm,k_size=k_size,padding_size=padding_size), **kwargs)\n",
        "    if pretrained:\n",
        "        state_dict = load_state_dict_from_url(model_urls[arch],\n",
        "                                              progress=progress)\n",
        "        model.load_state_dict(state_dict)\n",
        "    return model\n",
        "\n",
        "\n",
        "\n",
        "cfgs = {\n",
        "    'A': [64, 'M', 128, 'M', 256, 256, 'M', 512, 512, 'M', 512, 512, 'M'],\n",
        "    'B': [64, 64, 'M', 128, 128, 'M', 256, 256, 'M', 512, 512, 'M', 512, 512, 'M'],\n",
        "    'D': [64, 64, 'M', 128, 128, 'M', 256, 256, 256, 'M', 512, 512, 512, 'M', 512, 512, 512, 'M'],\n",
        "    'E': [64, 64, 'M', 128, 128, 'M', 256, 256, 256, 256, 'M', 512, 512, 512, 512, 'M', 512, 512, 512, 512, 'M'],\n",
        "}\n"
      ],
      "execution_count": 0,
      "outputs": []
    },
    {
      "cell_type": "code",
      "metadata": {
        "id": "INNZcmFkQfvh",
        "colab_type": "code",
        "colab": {}
      },
      "source": [
        "from sklearn.metrics import roc_curve, auc\n",
        "\n",
        "\n",
        "\n",
        "\n",
        "def run(data,vgg,epoch,name):\n",
        "    learn = cnn_learner(data, vgg, pretrained=False, metrics=[error_rate,accuracy])\n",
        "    start = timeit.default_timer()\n",
        "    learn.fit_one_cycle(epoch)\n",
        "    stop = timeit.default_timer()\n",
        "    print(name, stop - start)\n",
        "    learn.save(name)\n",
        "    learn.recorder.plot_losses()\n",
        "    # predict the validation set with our model\n",
        "    interp = ClassificationInterpretation.from_learner(learn)\n",
        "    interp.plot_confusion_matrix(title='Confusion matrix')\n",
        "    interp.confusion_matrix()\n",
        "    preds,y, loss = learn.get_preds(with_loss=True)\n",
        "\n",
        "    # get accuracy\n",
        "    acc = accuracy(preds, y)\n",
        "    print('The accuracy is {0} %.'.format(acc))\n",
        "        \n",
        "\n",
        "    preds,y, loss = learn.get_preds(with_loss=True)\n",
        "\n",
        "    # probs from log preds\n",
        "    probs = np.exp(preds[:,1])\n",
        "    # Compute ROC curve\n",
        "    fpr, tpr, thresholds = roc_curve(y, probs, pos_label=1)\n",
        "\n",
        "    # Compute ROC area\n",
        "    roc_auc = auc(fpr, tpr)\n",
        "    print('ROC area is {0}'.format(roc_auc))\n",
        "    plt.figure()\n",
        "    plt.plot(fpr, tpr, color='darkorange', label='ROC curve (area = %0.2f)' % roc_auc)\n",
        "    plt.plot([0, 1], [0, 1], color='navy', linestyle='--')\n",
        "    plt.xlim([-0.01, 1.0])\n",
        "    plt.ylim([0.0, 1.01])\n",
        "    plt.xlabel('False Positive Rate')\n",
        "    plt.ylabel('True Positive Rate')\n",
        "    plt.title('Receiver operating characteristic')\n",
        "    plt.legend(loc=\"lower right\")\n",
        "    return learn"
      ],
      "execution_count": 0,
      "outputs": []
    },
    {
      "cell_type": "code",
      "metadata": {
        "id": "fNB7ADy5Qh1c",
        "colab_type": "code",
        "colab": {}
      },
      "source": [
        "imagesize = 224\n",
        "batchsize = 64\n",
        "path = 'finaldataset/finaldataset/'\n",
        "\n",
        "tfms = get_transforms(do_flip=False,\n",
        "                      flip_vert=False,\n",
        "                      max_rotate=15.0,\n",
        "                      max_zoom=1,\n",
        "                      max_lighting=None,\n",
        "                      max_warp=None,\n",
        "                      p_affine=0.0,\n",
        "                      p_lighting=0.0)\n",
        "\n",
        "data = (ImageList.from_folder(path)\n",
        "        .split_by_folder(train='train', valid='val')\n",
        "        .label_from_folder()\n",
        "        .transform(tfms, size=imagesize)\n",
        "        .databunch(bs=batchsize)\n",
        "        .normalize(imagenet_stats))\n"
      ],
      "execution_count": 0,
      "outputs": []
    },
    {
      "cell_type": "code",
      "metadata": {
        "id": "M9N9P_OLRGc4",
        "colab_type": "code",
        "colab": {}
      },
      "source": [
        "def vgg19_bn3x3(pretrained=False, progress=True,k_size=3,padding_size=1, **kwargs):\n",
        "    return _vgg('vgg19_bn', 'E', True, pretrained, progress,k_size,padding_size, **kwargs)\n",
        "learn_vgg19_3x3 = run(data, vgg19_bn3x3, 30,'vgg19-3x3')"
      ],
      "execution_count": 0,
      "outputs": []
    },
    {
      "cell_type": "code",
      "metadata": {
        "id": "6WqEqgcCTIIP",
        "colab_type": "code",
        "colab": {}
      },
      "source": [
        "def vgg13_bn5x5(pretrained=False, progress=True,k_size=5,padding_size=2, **kwargs):\n",
        "    return _vgg('vgg13_bn', 'B', True, pretrained, progress,k_size,padding_size, **kwargs)\n",
        "learn_vgg13_5x5 = run(data, vgg13_bn5x5, 30,'vgg13-5x5')"
      ],
      "execution_count": 0,
      "outputs": []
    },
    {
      "cell_type": "code",
      "metadata": {
        "id": "nJghDXN-Rsg1",
        "colab_type": "code",
        "colab": {}
      },
      "source": [
        "def vgg16_bn5x5(pretrained=False, progress=True,k_size=5,padding_size=2, **kwargs):\n",
        "    return _vgg('vgg16_bn', 'A', True, pretrained, progress,k_size,padding_size, **kwargs)\n",
        "learn_vgg16_5x5 = run(data, vgg16_bn5x5, 100,'vgg16-5x5')"
      ],
      "execution_count": 0,
      "outputs": []
    },
    {
      "cell_type": "code",
      "metadata": {
        "id": "EwoqgpGiS_2L",
        "colab_type": "code",
        "colab": {}
      },
      "source": [
        ""
      ],
      "execution_count": 0,
      "outputs": []
    }
  ]
}